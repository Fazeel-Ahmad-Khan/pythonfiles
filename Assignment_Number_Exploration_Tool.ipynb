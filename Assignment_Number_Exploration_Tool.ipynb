{
 "cells": [
  {
   "cell_type": "code",
   "execution_count": 1,
   "metadata": {},
   "outputs": [
    {
     "name": "stdout",
     "output_type": "stream",
     "text": [
      "\n",
      "Hello, Fazeel! Let's explore your favorite numbers:\n",
      "The number 3 is odd.\n",
      "The number 7 is odd.\n",
      "The number 12 is even.\n",
      "\n",
      "Here are your numbers and their squares:\n",
      "The number 3 and its square: (3, 9)\n",
      "The number 7 and its square: (7, 49)\n",
      "The number 12 and its square: (12, 144)\n",
      "\n",
      "Amazing! The sum of your favorite numbers is: 22\n",
      "22 is not a prime number.\n"
     ]
    }
   ],
   "source": [
    "def is_prime(num):\n",
    "  if num <= 1:\n",
    "    return False\n",
    "  for i in range(2, int(num**0.5) + 1):\n",
    "    if num % i == 0:\n",
    "      return False\n",
    "  return True\n",
    "\n",
    "def number_explorer():\n",
    "  name = input(\"Enter your name: \")\n",
    "  numbers = []\n",
    "  for i in range(1, 4):\n",
    "    num = int(input(f\"Enter your {i} favorite number: \"))\n",
    "    numbers.append(num)\n",
    "\n",
    "  print(f\"\\nHello, {name}! Let's explore your favorite numbers:\")\n",
    "\n",
    "  even_odd_info = []\n",
    "  for num in numbers:\n",
    "    if num % 2 == 0:\n",
    "      even_odd_info.append((num, \"even\"))\n",
    "      print(f\"The number {num} is even.\")\n",
    "    else:\n",
    "      even_odd_info.append((num, \"odd\"))\n",
    "      print(f\"The number {num} is odd.\")\n",
    "\n",
    "  squares = []\n",
    "  for num in numbers:\n",
    "    squares.append((num, num**2))\n",
    "\n",
    "  print(\"\\nHere are your numbers and their squares:\")\n",
    "  for num, square in squares:\n",
    "    print(f\"The number {num} and its square: ({num}, {square})\")\n",
    "\n",
    "  sum_of_numbers = sum(numbers)\n",
    "  print(f\"\\nAmazing! The sum of your favorite numbers is: {sum_of_numbers}\")\n",
    "\n",
    "  if is_prime(sum_of_numbers):\n",
    "    print(f\"Wow, {sum_of_numbers} is a prime number!\")\n",
    "  else:\n",
    "    print(f\"{sum_of_numbers} is not a prime number.\")\n",
    "\n",
    "if __name__ == \"__main__\":\n",
    "  number_explorer()"
   ]
  },
  {
   "cell_type": "code",
   "execution_count": null,
   "metadata": {},
   "outputs": [],
   "source": []
  }
 ],
 "metadata": {
  "kernelspec": {
   "display_name": "base",
   "language": "python",
   "name": "python3"
  },
  "language_info": {
   "codemirror_mode": {
    "name": "ipython",
    "version": 3
   },
   "file_extension": ".py",
   "mimetype": "text/x-python",
   "name": "python",
   "nbconvert_exporter": "python",
   "pygments_lexer": "ipython3",
   "version": "3.11.7"
  }
 },
 "nbformat": 4,
 "nbformat_minor": 2
}
