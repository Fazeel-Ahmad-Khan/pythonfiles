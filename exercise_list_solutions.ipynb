{
 "cells": [
  {
   "cell_type": "markdown",
   "metadata": {},
   "source": [
    "# Python Exercises on Lists"
   ]
  },
  {
   "cell_type": "markdown",
   "metadata": {},
   "source": [
    "Fazeel Ahmad Khan"
   ]
  },
  {
   "cell_type": "markdown",
   "metadata": {},
   "source": [
    "Exercise 3-1: Names"
   ]
  },
  {
   "cell_type": "code",
   "execution_count": 3,
   "metadata": {},
   "outputs": [
    {
     "name": "stdout",
     "output_type": "stream",
     "text": [
      "Ali\n",
      "Hammad\n",
      "Fatima\n"
     ]
    }
   ],
   "source": [
    "names = [\"Ali\", \"Hammad\", \"Fatima\"]\n",
    "for i in names:\n",
    "    print(i)"
   ]
  },
  {
   "cell_type": "markdown",
   "metadata": {},
   "source": [
    "Exercise 3-2: Greetings"
   ]
  },
  {
   "cell_type": "code",
   "execution_count": 10,
   "metadata": {},
   "outputs": [
    {
     "name": "stdout",
     "output_type": "stream",
     "text": [
      "Hey Ali! Whats up?\n",
      "Hey Hammad! Whats up?\n",
      "Hey Fatima! Whats up?\n"
     ]
    }
   ],
   "source": [
    "for i in names:\n",
    "    print(f\"Hey {i}! Whats up?\")"
   ]
  },
  {
   "cell_type": "markdown",
   "metadata": {},
   "source": [
    "Exercise 3-3: Your Own List"
   ]
  },
  {
   "cell_type": "code",
   "execution_count": 13,
   "metadata": {},
   "outputs": [
    {
     "name": "stdout",
     "output_type": "stream",
     "text": [
      "I want to own Mercedes Maybach someday.\n",
      "I want to own BMW i8 someday.\n",
      "I want to own Bentley Continental GT someday.\n"
     ]
    }
   ],
   "source": [
    "vehicles = ['Mercedes Maybach', 'BMW i8', 'Bentley Continental GT']\n",
    "for i in vehicles:\n",
    "    print(f\"I want to own {i} someday.\")"
   ]
  },
  {
   "cell_type": "markdown",
   "metadata": {},
   "source": [
    "Exercise 3-4: Guest List"
   ]
  },
  {
   "cell_type": "code",
   "execution_count": 14,
   "metadata": {},
   "outputs": [
    {
     "name": "stdout",
     "output_type": "stream",
     "text": [
      "Hi Ali, it's been a while, let's catch up on dinner.\n",
      "Hi Hammad, it's been a while, let's catch up on dinner.\n",
      "Hi Fatima, it's been a while, let's catch up on dinner.\n"
     ]
    }
   ],
   "source": [
    "guest_list = ['Ali', 'Hammad', 'Fatima']\n",
    "for i in guest_list:\n",
    "    print(f\"Hi {i}, it's been a while, let's catch up on dinner.\")"
   ]
  },
  {
   "cell_type": "markdown",
   "metadata": {},
   "source": [
    "Exercise 3-5: Changing Guest List"
   ]
  },
  {
   "cell_type": "code",
   "execution_count": 15,
   "metadata": {},
   "outputs": [
    {
     "name": "stdout",
     "output_type": "stream",
     "text": [
      "Unfortunately, Ali could not make it to dinner\n",
      "Hi Ahmad, it's been a while, let's catch up on dinner.\n"
     ]
    }
   ],
   "source": [
    "print(f'Unfortunately, {guest_list[0]} could not make it to dinner')\n",
    "guest_list[0] = 'Ahmad'\n",
    "print(f\"Hi {guest_list[0]}, it's been a while, let's catch up on dinner.\")"
   ]
  },
  {
   "cell_type": "markdown",
   "metadata": {},
   "source": [
    "Exercise 3-6: More Guests"
   ]
  },
  {
   "cell_type": "code",
   "execution_count": 16,
   "metadata": {},
   "outputs": [
    {
     "name": "stdout",
     "output_type": "stream",
     "text": [
      "Hey guys, we found a bigger table, lets invite others\n",
      "Hi Sana, it's been a while, let's catch up on dinner.\n",
      "Hi Ahmad, it's been a while, let's catch up on dinner.\n",
      "Hi Hassan, it's been a while, let's catch up on dinner.\n",
      "Hi Hammad, it's been a while, let's catch up on dinner.\n",
      "Hi Fatima, it's been a while, let's catch up on dinner.\n",
      "Hi Raza, it's been a while, let's catch up on dinner.\n"
     ]
    }
   ],
   "source": [
    "print('Hey guys, we found a bigger table, lets invite others')\n",
    "guest_list.insert(0, \"Sana\")\n",
    "guest_list.insert(2, \"Hassan\")\n",
    "guest_list.append(\"Raza\")\n",
    "\n",
    "for i in guest_list:\n",
    "    print(f\"Hi {i}, it's been a while, let's catch up on dinner.\")\n"
   ]
  },
  {
   "cell_type": "markdown",
   "metadata": {},
   "source": [
    "Exercise 3-7: Shrinking Guest List"
   ]
  },
  {
   "cell_type": "code",
   "execution_count": 17,
   "metadata": {},
   "outputs": [
    {
     "name": "stdout",
     "output_type": "stream",
     "text": [
      "Unfortunately I can only invite two people for dinner\n",
      "Hey Raza I am sorry, but I can not invite you for the dinner.\n",
      "Hey Raza I am sorry, but I can not invite you for the dinner.\n",
      "Hey Raza I am sorry, but I can not invite you for the dinner.\n",
      "Hey Raza I am sorry, but I can not invite you for the dinner.\n",
      "Hi Sana, you are still invited for the dinner.\n",
      "Hi Ahmad, you are still invited for the dinner.\n",
      "[]\n"
     ]
    }
   ],
   "source": [
    "print('Unfortunately I can only invite two people for dinner')\n",
    "while len(guest_list) >2:\n",
    "    remove = guest_list.pop()\n",
    "    print(f'Hey {i} I am sorry, but I can not invite you for the dinner.')\n",
    "\n",
    "for i in guest_list:\n",
    "    print(f'Hi {i}, you are still invited for the dinner.')\n",
    "\n",
    "del guest_list[0]\n",
    "del guest_list[0]\n",
    "\n",
    "print(guest_list)"
   ]
  },
  {
   "cell_type": "markdown",
   "metadata": {},
   "source": [
    "Exercise 3-8: Seeing the World"
   ]
  },
  {
   "cell_type": "code",
   "execution_count": 20,
   "metadata": {},
   "outputs": [
    {
     "name": "stdout",
     "output_type": "stream",
     "text": [
      "['Canada', 'Australia', 'Iceland', 'New Zealand', 'Switzerland']\n",
      "['Australia', 'Canada', 'Iceland', 'New Zealand', 'Switzerland']\n",
      "['Canada', 'Australia', 'Iceland', 'New Zealand', 'Switzerland']\n",
      "['Switzerland', 'New Zealand', 'Iceland', 'Canada', 'Australia']\n",
      "['Canada', 'Australia', 'Iceland', 'New Zealand', 'Switzerland']\n",
      "['Switzerland', 'New Zealand', 'Iceland', 'Australia', 'Canada']\n",
      "['Canada', 'Australia', 'Iceland', 'New Zealand', 'Switzerland']\n",
      "['Australia', 'Canada', 'Iceland', 'New Zealand', 'Switzerland']\n",
      "['Switzerland', 'New Zealand', 'Iceland', 'Canada', 'Australia']\n"
     ]
    }
   ],
   "source": [
    "places = [\"Canada\", \"Australia\", \"Iceland\", \"New Zealand\", \"Switzerland\"]\n",
    "print(places)\n",
    "\n",
    "print(sorted(places))\n",
    "print(places)\n",
    "\n",
    "print(sorted(places, reverse=True))\n",
    "print(places)\n",
    "\n",
    "places.reverse()\n",
    "print(places)\n",
    "\n",
    "places.reverse()\n",
    "print(places)\n",
    "\n",
    "places.sort()\n",
    "print(places)\n",
    "\n",
    "places.sort(reverse=True)\n",
    "print(places)"
   ]
  },
  {
   "cell_type": "markdown",
   "metadata": {},
   "source": [
    "Exercise 3-9: Every Function"
   ]
  },
  {
   "cell_type": "code",
   "execution_count": 26,
   "metadata": {},
   "outputs": [
    {
     "name": "stdout",
     "output_type": "stream",
     "text": [
      "First element: 10\n",
      "Last element: 18\n",
      "Modified list: [10, 11, 9, 20, 14, 16, 12, 15, 18]\n",
      "List after appending: [10, 11, 9, 20, 14, 16, 12, 15, 18, 17]\n",
      "List after inserting: [10, 11, 5, 9, 20, 14, 16, 12, 15, 18, 17]\n",
      "List after removing 11: [10, 5, 9, 20, 14, 16, 12, 15, 18, 17]\n",
      "Count of 10: 1\n",
      "Sorted list: [5, 9, 10, 12, 14, 15, 16, 17, 18, 20]\n",
      "Reversed list: [20, 18, 17, 16, 15, 14, 12, 10, 9, 5]\n",
      "Length of the list: 10\n",
      "Cleared list: []\n"
     ]
    }
   ],
   "source": [
    "my_list = [10, 11, 9, 19, 14, 16, 12, 15, 18]\n",
    "\n",
    "# Accessing elements\n",
    "print(f\"First element: {my_list[0]}\")\n",
    "print(f\"Last element: {my_list[-1]}\")\n",
    "\n",
    "# Changing elements\n",
    "my_list[3] = 20  \n",
    "print(f\"Modified list: {my_list}\")\n",
    "\n",
    "# Adding elements\n",
    "my_list.append(17)\n",
    "print(f\"List after appending: {my_list}\")\n",
    "\n",
    "# Inserting elements\n",
    "my_list.insert(2, 5)\n",
    "print(f\"List after inserting: {my_list}\")\n",
    "\n",
    "# Removing elements\n",
    "my_list.remove(11)  # Remove the first occurrence of 11\n",
    "print(f\"List after removing 11: {my_list}\")\n",
    "\n",
    "# Counting elements\n",
    "print(f\"Count of 10: {my_list.count(10)}\")  # Count occurrences of 10\n",
    "\n",
    "# Sorting\n",
    "my_list.sort()\n",
    "print(f\"Sorted list: {my_list}\")\n",
    "\n",
    "# Reversing\n",
    "my_list.reverse()\n",
    "print(f\"Reversed list: {my_list}\")\n",
    "\n",
    "# Length of the list\n",
    "print(f\"Length of the list: {len(my_list)}\")\n",
    "\n",
    "# Clearing the list\n",
    "my_list.clear()\n",
    "print(f\"Cleared list: {my_list}\")"
   ]
  },
  {
   "cell_type": "markdown",
   "metadata": {},
   "source": [
    "Exercise 3-10: Intentional Error"
   ]
  },
  {
   "cell_type": "code",
   "execution_count": 28,
   "metadata": {},
   "outputs": [
    {
     "ename": "IndexError",
     "evalue": "list index out of range",
     "output_type": "error",
     "traceback": [
      "\u001b[1;31m---------------------------------------------------------------------------\u001b[0m",
      "\u001b[1;31mIndexError\u001b[0m                                Traceback (most recent call last)",
      "Cell \u001b[1;32mIn[28], line 2\u001b[0m\n\u001b[0;32m      1\u001b[0m my_list \u001b[38;5;241m=\u001b[39m [\u001b[38;5;241m9\u001b[39m, \u001b[38;5;241m12\u001b[39m, \u001b[38;5;241m13\u001b[39m]\n\u001b[1;32m----> 2\u001b[0m \u001b[38;5;28mprint\u001b[39m(my_list[\u001b[38;5;241m4\u001b[39m])\n",
      "\u001b[1;31mIndexError\u001b[0m: list index out of range"
     ]
    }
   ],
   "source": [
    "my_list = [9, 12, 13]\n",
    "print(my_list[4])  # This will cause an IndexError"
   ]
  },
  {
   "cell_type": "code",
   "execution_count": null,
   "metadata": {},
   "outputs": [],
   "source": []
  }
 ],
 "metadata": {
  "kernelspec": {
   "display_name": "base",
   "language": "python",
   "name": "python3"
  },
  "language_info": {
   "codemirror_mode": {
    "name": "ipython",
    "version": 3
   },
   "file_extension": ".py",
   "mimetype": "text/x-python",
   "name": "python",
   "nbconvert_exporter": "python",
   "pygments_lexer": "ipython3",
   "version": "3.11.7"
  }
 },
 "nbformat": 4,
 "nbformat_minor": 2
}
